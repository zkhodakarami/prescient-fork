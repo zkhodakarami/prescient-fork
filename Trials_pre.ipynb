{
  "nbformat": 4,
  "nbformat_minor": 0,
  "metadata": {
    "colab": {
      "provenance": [],
      "authorship_tag": "ABX9TyMRQzLd8qnpjNvG7ZNEq/qM",
      "include_colab_link": true
    },
    "kernelspec": {
      "name": "python3",
      "display_name": "Python 3"
    },
    "language_info": {
      "name": "python"
    },
    "accelerator": "GPU",
    "gpuClass": "standard"
  },
  "cells": [
    {
      "cell_type": "markdown",
      "metadata": {
        "id": "view-in-github",
        "colab_type": "text"
      },
      "source": [
        "<a href=\"https://colab.research.google.com/github/zkhodakarami/prescient-fork/blob/master/Trials_pre.ipynb\" target=\"_parent\"><img src=\"https://colab.research.google.com/assets/colab-badge.svg\" alt=\"Open In Colab\"/></a>"
      ]
    },
    {
      "cell_type": "code",
      "execution_count": 1,
      "metadata": {
        "colab": {
          "base_uri": "https://localhost:8080/"
        },
        "id": "8OmXPHyhOna_",
        "outputId": "b85e3ed3-5302-4964-a44b-02a90d69a092"
      },
      "outputs": [
        {
          "output_type": "stream",
          "name": "stdout",
          "text": [
            "Mounted at /content/drive\n"
          ]
        }
      ],
      "source": [
        "from google.colab import drive\n",
        "drive.mount('/content/drive')"
      ]
    },
    {
      "cell_type": "code",
      "source": [
        "import pandas as pd\n",
        "expr2 = pd.read_csv(\"/content/drive/MyDrive/NF/DGB_20181016_COLO858_updated_20200519_filtered.csv\", index_col=0)"
      ],
      "metadata": {
        "id": "ms_sXmfvO4ew"
      },
      "execution_count": 2,
      "outputs": []
    },
    {
      "cell_type": "code",
      "source": [
        "exp_num = expr2\n",
        "del exp_num[\"Timepoint\"]\n",
        "del exp_num[\"Drugs\"]\n",
        "del exp_num[\"Doses\"]\n",
        "exp_num.head()"
      ],
      "metadata": {
        "colab": {
          "base_uri": "https://localhost:8080/",
          "height": 331
        },
        "id": "AW8mDpLIPB5R",
        "outputId": "c49a2792-c952-4ba2-952f-742ddb2f6d9c"
      },
      "execution_count": 3,
      "outputs": [
        {
          "output_type": "execute_result",
          "data": {
            "text/plain": [
              "               Phospho_c_Jun  Phospho_ATF2  Phospho_Fra1     c_Fos     c_Jun  \\\n",
              "Phospho_c_Fos                                                                  \n",
              "2.482309            2.566314      2.347076      3.725452  2.717293  2.757141   \n",
              "2.507659            2.443444      2.363911      3.809165  2.723162  2.509363   \n",
              "3.128445            3.230032      2.690699      4.355289  3.304874  3.651961   \n",
              "2.614351            2.583048      2.399141      3.928000  2.740837  2.625010   \n",
              "2.269206            2.434744      2.345996      3.746324  2.542989  2.804418   \n",
              "\n",
              "                   Fra1      JunD      ATF2      JunB      Fra2  ...  \\\n",
              "Phospho_c_Fos                                                    ...   \n",
              "2.482309       3.817022  3.534199  3.111005  3.634476  2.981213  ...   \n",
              "2.507659       3.793575  3.320416  2.923885  3.523222  2.656339  ...   \n",
              "3.128445       4.184460  3.669419  3.140430  3.880478  3.666164  ...   \n",
              "2.614351       3.883700  3.346847  2.925226  3.679446  2.920995  ...   \n",
              "2.269206       3.697967  3.149210  2.916250  3.338552  2.935117  ...   \n",
              "\n",
              "               Phospho_p38     Ki_67  NF_kappaB     MiTFg       AXL     Sox10  \\\n",
              "Phospho_c_Fos                                                                   \n",
              "2.482309          3.041194  3.751343   3.547431  3.736449  3.373901  3.737063   \n",
              "2.507659          2.961434  3.861726   3.508702  3.630648  3.643372  3.597944   \n",
              "3.128445          3.063199  4.035174   3.591757  3.549209  4.065621  3.870810   \n",
              "2.614351          3.006989  4.182933   3.760017  3.799474  3.742439  3.683257   \n",
              "2.269206          2.796205  3.980446   3.591768  3.422480  3.822521  3.533335   \n",
              "\n",
              "               timepoint_id  drug_id  dose_id  Rep  \n",
              "Phospho_c_Fos                                       \n",
              "2.482309                  1        1        1    1  \n",
              "2.507659                  1        1        1    1  \n",
              "3.128445                  1        1        1    1  \n",
              "2.614351                  1        1        1    1  \n",
              "2.269206                  1        1        1    1  \n",
              "\n",
              "[5 rows x 29 columns]"
            ],
            "text/html": [
              "\n",
              "  <div id=\"df-d58f3e98-8d3f-4c50-b4aa-2122c46a726b\">\n",
              "    <div class=\"colab-df-container\">\n",
              "      <div>\n",
              "<style scoped>\n",
              "    .dataframe tbody tr th:only-of-type {\n",
              "        vertical-align: middle;\n",
              "    }\n",
              "\n",
              "    .dataframe tbody tr th {\n",
              "        vertical-align: top;\n",
              "    }\n",
              "\n",
              "    .dataframe thead th {\n",
              "        text-align: right;\n",
              "    }\n",
              "</style>\n",
              "<table border=\"1\" class=\"dataframe\">\n",
              "  <thead>\n",
              "    <tr style=\"text-align: right;\">\n",
              "      <th></th>\n",
              "      <th>Phospho_c_Jun</th>\n",
              "      <th>Phospho_ATF2</th>\n",
              "      <th>Phospho_Fra1</th>\n",
              "      <th>c_Fos</th>\n",
              "      <th>c_Jun</th>\n",
              "      <th>Fra1</th>\n",
              "      <th>JunD</th>\n",
              "      <th>ATF2</th>\n",
              "      <th>JunB</th>\n",
              "      <th>Fra2</th>\n",
              "      <th>...</th>\n",
              "      <th>Phospho_p38</th>\n",
              "      <th>Ki_67</th>\n",
              "      <th>NF_kappaB</th>\n",
              "      <th>MiTFg</th>\n",
              "      <th>AXL</th>\n",
              "      <th>Sox10</th>\n",
              "      <th>timepoint_id</th>\n",
              "      <th>drug_id</th>\n",
              "      <th>dose_id</th>\n",
              "      <th>Rep</th>\n",
              "    </tr>\n",
              "    <tr>\n",
              "      <th>Phospho_c_Fos</th>\n",
              "      <th></th>\n",
              "      <th></th>\n",
              "      <th></th>\n",
              "      <th></th>\n",
              "      <th></th>\n",
              "      <th></th>\n",
              "      <th></th>\n",
              "      <th></th>\n",
              "      <th></th>\n",
              "      <th></th>\n",
              "      <th></th>\n",
              "      <th></th>\n",
              "      <th></th>\n",
              "      <th></th>\n",
              "      <th></th>\n",
              "      <th></th>\n",
              "      <th></th>\n",
              "      <th></th>\n",
              "      <th></th>\n",
              "      <th></th>\n",
              "      <th></th>\n",
              "    </tr>\n",
              "  </thead>\n",
              "  <tbody>\n",
              "    <tr>\n",
              "      <th>2.482309</th>\n",
              "      <td>2.566314</td>\n",
              "      <td>2.347076</td>\n",
              "      <td>3.725452</td>\n",
              "      <td>2.717293</td>\n",
              "      <td>2.757141</td>\n",
              "      <td>3.817022</td>\n",
              "      <td>3.534199</td>\n",
              "      <td>3.111005</td>\n",
              "      <td>3.634476</td>\n",
              "      <td>2.981213</td>\n",
              "      <td>...</td>\n",
              "      <td>3.041194</td>\n",
              "      <td>3.751343</td>\n",
              "      <td>3.547431</td>\n",
              "      <td>3.736449</td>\n",
              "      <td>3.373901</td>\n",
              "      <td>3.737063</td>\n",
              "      <td>1</td>\n",
              "      <td>1</td>\n",
              "      <td>1</td>\n",
              "      <td>1</td>\n",
              "    </tr>\n",
              "    <tr>\n",
              "      <th>2.507659</th>\n",
              "      <td>2.443444</td>\n",
              "      <td>2.363911</td>\n",
              "      <td>3.809165</td>\n",
              "      <td>2.723162</td>\n",
              "      <td>2.509363</td>\n",
              "      <td>3.793575</td>\n",
              "      <td>3.320416</td>\n",
              "      <td>2.923885</td>\n",
              "      <td>3.523222</td>\n",
              "      <td>2.656339</td>\n",
              "      <td>...</td>\n",
              "      <td>2.961434</td>\n",
              "      <td>3.861726</td>\n",
              "      <td>3.508702</td>\n",
              "      <td>3.630648</td>\n",
              "      <td>3.643372</td>\n",
              "      <td>3.597944</td>\n",
              "      <td>1</td>\n",
              "      <td>1</td>\n",
              "      <td>1</td>\n",
              "      <td>1</td>\n",
              "    </tr>\n",
              "    <tr>\n",
              "      <th>3.128445</th>\n",
              "      <td>3.230032</td>\n",
              "      <td>2.690699</td>\n",
              "      <td>4.355289</td>\n",
              "      <td>3.304874</td>\n",
              "      <td>3.651961</td>\n",
              "      <td>4.184460</td>\n",
              "      <td>3.669419</td>\n",
              "      <td>3.140430</td>\n",
              "      <td>3.880478</td>\n",
              "      <td>3.666164</td>\n",
              "      <td>...</td>\n",
              "      <td>3.063199</td>\n",
              "      <td>4.035174</td>\n",
              "      <td>3.591757</td>\n",
              "      <td>3.549209</td>\n",
              "      <td>4.065621</td>\n",
              "      <td>3.870810</td>\n",
              "      <td>1</td>\n",
              "      <td>1</td>\n",
              "      <td>1</td>\n",
              "      <td>1</td>\n",
              "    </tr>\n",
              "    <tr>\n",
              "      <th>2.614351</th>\n",
              "      <td>2.583048</td>\n",
              "      <td>2.399141</td>\n",
              "      <td>3.928000</td>\n",
              "      <td>2.740837</td>\n",
              "      <td>2.625010</td>\n",
              "      <td>3.883700</td>\n",
              "      <td>3.346847</td>\n",
              "      <td>2.925226</td>\n",
              "      <td>3.679446</td>\n",
              "      <td>2.920995</td>\n",
              "      <td>...</td>\n",
              "      <td>3.006989</td>\n",
              "      <td>4.182933</td>\n",
              "      <td>3.760017</td>\n",
              "      <td>3.799474</td>\n",
              "      <td>3.742439</td>\n",
              "      <td>3.683257</td>\n",
              "      <td>1</td>\n",
              "      <td>1</td>\n",
              "      <td>1</td>\n",
              "      <td>1</td>\n",
              "    </tr>\n",
              "    <tr>\n",
              "      <th>2.269206</th>\n",
              "      <td>2.434744</td>\n",
              "      <td>2.345996</td>\n",
              "      <td>3.746324</td>\n",
              "      <td>2.542989</td>\n",
              "      <td>2.804418</td>\n",
              "      <td>3.697967</td>\n",
              "      <td>3.149210</td>\n",
              "      <td>2.916250</td>\n",
              "      <td>3.338552</td>\n",
              "      <td>2.935117</td>\n",
              "      <td>...</td>\n",
              "      <td>2.796205</td>\n",
              "      <td>3.980446</td>\n",
              "      <td>3.591768</td>\n",
              "      <td>3.422480</td>\n",
              "      <td>3.822521</td>\n",
              "      <td>3.533335</td>\n",
              "      <td>1</td>\n",
              "      <td>1</td>\n",
              "      <td>1</td>\n",
              "      <td>1</td>\n",
              "    </tr>\n",
              "  </tbody>\n",
              "</table>\n",
              "<p>5 rows × 29 columns</p>\n",
              "</div>\n",
              "      <button class=\"colab-df-convert\" onclick=\"convertToInteractive('df-d58f3e98-8d3f-4c50-b4aa-2122c46a726b')\"\n",
              "              title=\"Convert this dataframe to an interactive table.\"\n",
              "              style=\"display:none;\">\n",
              "        \n",
              "  <svg xmlns=\"http://www.w3.org/2000/svg\" height=\"24px\"viewBox=\"0 0 24 24\"\n",
              "       width=\"24px\">\n",
              "    <path d=\"M0 0h24v24H0V0z\" fill=\"none\"/>\n",
              "    <path d=\"M18.56 5.44l.94 2.06.94-2.06 2.06-.94-2.06-.94-.94-2.06-.94 2.06-2.06.94zm-11 1L8.5 8.5l.94-2.06 2.06-.94-2.06-.94L8.5 2.5l-.94 2.06-2.06.94zm10 10l.94 2.06.94-2.06 2.06-.94-2.06-.94-.94-2.06-.94 2.06-2.06.94z\"/><path d=\"M17.41 7.96l-1.37-1.37c-.4-.4-.92-.59-1.43-.59-.52 0-1.04.2-1.43.59L10.3 9.45l-7.72 7.72c-.78.78-.78 2.05 0 2.83L4 21.41c.39.39.9.59 1.41.59.51 0 1.02-.2 1.41-.59l7.78-7.78 2.81-2.81c.8-.78.8-2.07 0-2.86zM5.41 20L4 18.59l7.72-7.72 1.47 1.35L5.41 20z\"/>\n",
              "  </svg>\n",
              "      </button>\n",
              "      \n",
              "  <style>\n",
              "    .colab-df-container {\n",
              "      display:flex;\n",
              "      flex-wrap:wrap;\n",
              "      gap: 12px;\n",
              "    }\n",
              "\n",
              "    .colab-df-convert {\n",
              "      background-color: #E8F0FE;\n",
              "      border: none;\n",
              "      border-radius: 50%;\n",
              "      cursor: pointer;\n",
              "      display: none;\n",
              "      fill: #1967D2;\n",
              "      height: 32px;\n",
              "      padding: 0 0 0 0;\n",
              "      width: 32px;\n",
              "    }\n",
              "\n",
              "    .colab-df-convert:hover {\n",
              "      background-color: #E2EBFA;\n",
              "      box-shadow: 0px 1px 2px rgba(60, 64, 67, 0.3), 0px 1px 3px 1px rgba(60, 64, 67, 0.15);\n",
              "      fill: #174EA6;\n",
              "    }\n",
              "\n",
              "    [theme=dark] .colab-df-convert {\n",
              "      background-color: #3B4455;\n",
              "      fill: #D2E3FC;\n",
              "    }\n",
              "\n",
              "    [theme=dark] .colab-df-convert:hover {\n",
              "      background-color: #434B5C;\n",
              "      box-shadow: 0px 1px 3px 1px rgba(0, 0, 0, 0.15);\n",
              "      filter: drop-shadow(0px 1px 2px rgba(0, 0, 0, 0.3));\n",
              "      fill: #FFFFFF;\n",
              "    }\n",
              "  </style>\n",
              "\n",
              "      <script>\n",
              "        const buttonEl =\n",
              "          document.querySelector('#df-d58f3e98-8d3f-4c50-b4aa-2122c46a726b button.colab-df-convert');\n",
              "        buttonEl.style.display =\n",
              "          google.colab.kernel.accessAllowed ? 'block' : 'none';\n",
              "\n",
              "        async function convertToInteractive(key) {\n",
              "          const element = document.querySelector('#df-d58f3e98-8d3f-4c50-b4aa-2122c46a726b');\n",
              "          const dataTable =\n",
              "            await google.colab.kernel.invokeFunction('convertToInteractive',\n",
              "                                                     [key], {});\n",
              "          if (!dataTable) return;\n",
              "\n",
              "          const docLinkHtml = 'Like what you see? Visit the ' +\n",
              "            '<a target=\"_blank\" href=https://colab.research.google.com/notebooks/data_table.ipynb>data table notebook</a>'\n",
              "            + ' to learn more about interactive tables.';\n",
              "          element.innerHTML = '';\n",
              "          dataTable['output_type'] = 'display_data';\n",
              "          await google.colab.output.renderOutput(dataTable, element);\n",
              "          const docLink = document.createElement('div');\n",
              "          docLink.innerHTML = docLinkHtml;\n",
              "          element.appendChild(docLink);\n",
              "        }\n",
              "      </script>\n",
              "    </div>\n",
              "  </div>\n",
              "  "
            ]
          },
          "metadata": {},
          "execution_count": 3
        }
      ]
    },
    {
      "cell_type": "code",
      "source": [
        "#!pip install umap\n",
        "#!pip install git+https://github.com/hyperopt/hyperopt-sklearn.git\n",
        "import os\n",
        "import numpy as np\n",
        "import pandas as pd\n",
        "#import pyreadr\n",
        "#import scanpy as sc\n",
        "#import anndata\n",
        "import sklearn\n",
        "#import umap\n",
        "#import annoy\n",
        "import torch\n",
        "\n"
      ],
      "metadata": {
        "id": "eYZ-7dJ9P3Mt"
      },
      "execution_count": 4,
      "outputs": []
    },
    {
      "cell_type": "code",
      "source": [
        "!pip install scikit-learn\n",
        "!pip show scikit-learn\n",
        "from sklearn import preprocessing"
      ],
      "metadata": {
        "colab": {
          "base_uri": "https://localhost:8080/"
        },
        "id": "PmpCoilKSR0x",
        "outputId": "fe983980-6332-46f3-898c-d0dec8a75311"
      },
      "execution_count": 5,
      "outputs": [
        {
          "output_type": "stream",
          "name": "stdout",
          "text": [
            "Looking in indexes: https://pypi.org/simple, https://us-python.pkg.dev/colab-wheels/public/simple/\n",
            "Requirement already satisfied: scikit-learn in /usr/local/lib/python3.8/dist-packages (1.0.2)\n",
            "Requirement already satisfied: threadpoolctl>=2.0.0 in /usr/local/lib/python3.8/dist-packages (from scikit-learn) (3.1.0)\n",
            "Requirement already satisfied: joblib>=0.11 in /usr/local/lib/python3.8/dist-packages (from scikit-learn) (1.2.0)\n",
            "Requirement already satisfied: numpy>=1.14.6 in /usr/local/lib/python3.8/dist-packages (from scikit-learn) (1.21.6)\n",
            "Requirement already satisfied: scipy>=1.1.0 in /usr/local/lib/python3.8/dist-packages (from scikit-learn) (1.7.3)\n",
            "Name: scikit-learn\n",
            "Version: 1.0.2\n",
            "Summary: A set of python modules for machine learning and data mining\n",
            "Home-page: http://scikit-learn.org\n",
            "Author: \n",
            "Author-email: \n",
            "License: new BSD\n",
            "Location: /usr/local/lib/python3.8/dist-packages\n",
            "Requires: joblib, numpy, scipy, threadpoolctl\n",
            "Required-by: fastai, imbalanced-learn, librosa, lightgbm, mlxtend, qudida, sklearn-pandas, yellowbrick\n"
          ]
        }
      ]
    },
    {
      "cell_type": "code",
      "source": [
        "!pip uninstall umap\n",
        "!pip install umap-learn\n",
        "import umap.umap_ as umap"
      ],
      "metadata": {
        "colab": {
          "base_uri": "https://localhost:8080/"
        },
        "id": "5ZcpJo_tT6jj",
        "outputId": "96ddcdfb-6230-4778-cf17-51fb8736dd55"
      },
      "execution_count": 6,
      "outputs": [
        {
          "output_type": "stream",
          "name": "stdout",
          "text": [
            "\u001b[33mWARNING: Skipping umap as it is not installed.\u001b[0m\u001b[33m\n",
            "\u001b[0mLooking in indexes: https://pypi.org/simple, https://us-python.pkg.dev/colab-wheels/public/simple/\n",
            "Collecting umap-learn\n",
            "  Downloading umap-learn-0.5.3.tar.gz (88 kB)\n",
            "\u001b[2K     \u001b[90m━━━━━━━━━━━━━━━━━━━━━━━━━━━━━━━━━━━━━━━━\u001b[0m \u001b[32m88.2/88.2 KB\u001b[0m \u001b[31m9.0 MB/s\u001b[0m eta \u001b[36m0:00:00\u001b[0m\n",
            "\u001b[?25h  Preparing metadata (setup.py) ... \u001b[?25l\u001b[?25hdone\n",
            "Requirement already satisfied: numpy>=1.17 in /usr/local/lib/python3.8/dist-packages (from umap-learn) (1.21.6)\n",
            "Requirement already satisfied: scikit-learn>=0.22 in /usr/local/lib/python3.8/dist-packages (from umap-learn) (1.0.2)\n",
            "Requirement already satisfied: scipy>=1.0 in /usr/local/lib/python3.8/dist-packages (from umap-learn) (1.7.3)\n",
            "Requirement already satisfied: numba>=0.49 in /usr/local/lib/python3.8/dist-packages (from umap-learn) (0.56.4)\n",
            "Collecting pynndescent>=0.5\n",
            "  Downloading pynndescent-0.5.8.tar.gz (1.1 MB)\n",
            "\u001b[2K     \u001b[90m━━━━━━━━━━━━━━━━━━━━━━━━━━━━━━━━━━━━━━━━\u001b[0m \u001b[32m1.1/1.1 MB\u001b[0m \u001b[31m28.5 MB/s\u001b[0m eta \u001b[36m0:00:00\u001b[0m\n",
            "\u001b[?25h  Preparing metadata (setup.py) ... \u001b[?25l\u001b[?25hdone\n",
            "Requirement already satisfied: tqdm in /usr/local/lib/python3.8/dist-packages (from umap-learn) (4.64.1)\n",
            "Requirement already satisfied: setuptools in /usr/local/lib/python3.8/dist-packages (from numba>=0.49->umap-learn) (57.4.0)\n",
            "Requirement already satisfied: importlib-metadata in /usr/local/lib/python3.8/dist-packages (from numba>=0.49->umap-learn) (6.0.0)\n",
            "Requirement already satisfied: llvmlite<0.40,>=0.39.0dev0 in /usr/local/lib/python3.8/dist-packages (from numba>=0.49->umap-learn) (0.39.1)\n",
            "Requirement already satisfied: joblib>=0.11 in /usr/local/lib/python3.8/dist-packages (from pynndescent>=0.5->umap-learn) (1.2.0)\n",
            "Requirement already satisfied: threadpoolctl>=2.0.0 in /usr/local/lib/python3.8/dist-packages (from scikit-learn>=0.22->umap-learn) (3.1.0)\n",
            "Requirement already satisfied: zipp>=0.5 in /usr/local/lib/python3.8/dist-packages (from importlib-metadata->numba>=0.49->umap-learn) (3.12.0)\n",
            "Building wheels for collected packages: umap-learn, pynndescent\n",
            "  Building wheel for umap-learn (setup.py) ... \u001b[?25l\u001b[?25hdone\n",
            "  Created wheel for umap-learn: filename=umap_learn-0.5.3-py3-none-any.whl size=82829 sha256=56f780e3a04b6074b4d397ea29547e9eee4351e73194fea925b98743b37d7fd7\n",
            "  Stored in directory: /root/.cache/pip/wheels/a9/3a/67/06a8950e053725912e6a8c42c4a3a241410f6487b8402542ea\n",
            "  Building wheel for pynndescent (setup.py) ... \u001b[?25l\u001b[?25hdone\n",
            "  Created wheel for pynndescent: filename=pynndescent-0.5.8-py3-none-any.whl size=55513 sha256=ca21b81209fe88203460057c61f0de4db47be7b2aa1dd3a6114075c8b598ff7d\n",
            "  Stored in directory: /root/.cache/pip/wheels/1c/63/3a/29954bca1a27ba100ed8c27973a78cb71b43dc67aed62e80c3\n",
            "Successfully built umap-learn pynndescent\n",
            "Installing collected packages: pynndescent, umap-learn\n",
            "Successfully installed pynndescent-0.5.8 umap-learn-0.5.3\n"
          ]
        }
      ]
    },
    {
      "cell_type": "code",
      "source": [
        "#This is my function (based on this) to clean the dataset of nan, Inf, and missing cells (for skewed datasets):\n",
        "def clean_dataset(df):\n",
        "    assert isinstance(df, pd.DataFrame), \"df needs to be a pd.DataFrame\"\n",
        "    df.dropna(inplace=True)\n",
        "    indices_to_keep = ~df.isin([np.nan, np.inf, -np.inf]).any(1)\n",
        "    return df[indices_to_keep].astype(np.float64)"
      ],
      "metadata": {
        "id": "KIo9orAhVCww"
      },
      "execution_count": 7,
      "outputs": []
    },
    {
      "cell_type": "code",
      "source": [
        "#!pip install geomloss\n",
        "#!python /content/drive/MyDrive/priscient/prescient/train/model.py\n",
        "#!python /content/drive/MyDrive/priscient/prescient/train/run.py\n",
        "#!python /content/drive/MyDrive/priscient/prescient/train/__init__.py\n",
        "#!python /content/drive/MyDrive/priscient/prescient/train/util.py\n",
        "#import sys\n",
        "#sys.path.insert(0, '/content/drive/MyDrive/priscient/prescient')\n",
        "#!pip install train"
      ],
      "metadata": {
        "id": "i3kVI7xOeQz5"
      },
      "execution_count": null,
      "outputs": []
    },
    {
      "cell_type": "code",
      "source": [
        "#import sys\n",
        "#sys.path.insert(0, '/content/drive/MyDrive/priscient/prescient/train')\n",
        "#import model\n",
        "#import run\n",
        "#import util\n",
        "#import train\n",
        "#import train"
      ],
      "metadata": {
        "id": "wIW3YjlEfsaL"
      },
      "execution_count": null,
      "outputs": []
    },
    {
      "cell_type": "code",
      "source": [
        "!pip install geomloss"
      ],
      "metadata": {
        "colab": {
          "base_uri": "https://localhost:8080/"
        },
        "id": "FOogbL3LRA8G",
        "outputId": "99d33d11-a62b-49f8-cdce-d43082ddc46b"
      },
      "execution_count": null,
      "outputs": [
        {
          "output_type": "stream",
          "name": "stdout",
          "text": [
            "Looking in indexes: https://pypi.org/simple, https://us-python.pkg.dev/colab-wheels/public/simple/\n",
            "Collecting geomloss\n",
            "  Downloading geomloss-0.2.5.tar.gz (26 kB)\n",
            "  Preparing metadata (setup.py) ... \u001b[?25l\u001b[?25hdone\n",
            "Requirement already satisfied: numpy in /usr/local/lib/python3.8/dist-packages (from geomloss) (1.21.6)\n",
            "Building wheels for collected packages: geomloss\n",
            "  Building wheel for geomloss (setup.py) ... \u001b[?25l\u001b[?25hdone\n",
            "  Created wheel for geomloss: filename=geomloss-0.2.5-py3-none-any.whl size=32069 sha256=e12f417bdb2a324965ab5f5c3579d0acc9ebc0a4886e8c3fd603a25ba8062960\n",
            "  Stored in directory: /root/.cache/pip/wheels/3f/ba/ac/e61f794175073650207d2ad91bea30e2553fc83f74fc9a6b82\n",
            "Successfully built geomloss\n",
            "Installing collected packages: geomloss\n",
            "Successfully installed geomloss-0.2.5\n"
          ]
        }
      ]
    },
    {
      "cell_type": "markdown",
      "source": [
        "###Step 1 => editing process data\n",
        "Done . All the extra lines related to meta and other files are commented and numbers updated\n"
      ],
      "metadata": {
        "id": "xOtMCROGOVOE"
      }
    },
    {
      "cell_type": "code",
      "source": [
        "# first install umap,anndata,scanpy,pyreadr\n"
      ],
      "metadata": {
        "id": "Xr-5XYWoQ5IH"
      },
      "execution_count": null,
      "outputs": []
    },
    {
      "cell_type": "markdown",
      "source": [
        "### Step 2 => Editing train_model.py \n",
        "Done."
      ],
      "metadata": {
        "id": "qiUw_gjKJ6SL"
      }
    },
    {
      "cell_type": "code",
      "source": [
        "#installing geomloss\n",
        "#import train.prescient as train\n"
      ],
      "metadata": {
        "id": "s7pLlu8VKdfz"
      },
      "execution_count": null,
      "outputs": []
    },
    {
      "cell_type": "markdown",
      "source": [
        "### train folder\n",
        "init done\n",
        "\n",
        "model - install geomloss - done\n",
        "It's time for running it\n",
        "\n"
      ],
      "metadata": {
        "id": "zeskPr8aoCIN"
      }
    },
    {
      "cell_type": "code",
      "source": [
        "!npm install https://github.com/zkhodakarami/prescient-fork"
      ],
      "metadata": {
        "colab": {
          "base_uri": "https://localhost:8080/"
        },
        "id": "GVuNCwGiNqZr",
        "outputId": "e23f5377-82ec-4c3c-a296-bec80ddd0091"
      },
      "execution_count": null,
      "outputs": [
        {
          "output_type": "stream",
          "name": "stdout",
          "text": [
            "\u001b[K\u001b[?25h\u001b[37;40mnpm\u001b[0m \u001b[0m\u001b[31;40mERR!\u001b[0m\u001b[35m\u001b[0m premature close\n",
            "\u001b[0m\n",
            "\u001b[37;40mnpm\u001b[0m \u001b[0m\u001b[31;40mERR!\u001b[0m\u001b[35m\u001b[0m A complete log of this run can be found in:\n",
            "\u001b[0m\u001b[37;40mnpm\u001b[0m \u001b[0m\u001b[31;40mERR!\u001b[0m\u001b[35m\u001b[0m     /root/.npm/_logs/2023-01-15T20_58_15_247Z-debug.log\n",
            "\u001b[0m"
          ]
        }
      ]
    },
    {
      "cell_type": "code",
      "source": [
        "!nvidia-smi\n"
      ],
      "metadata": {
        "colab": {
          "base_uri": "https://localhost:8080/"
        },
        "id": "Ks9C7SEMOekc",
        "outputId": "e26afddf-e435-4c59-90a0-0b5135e48636"
      },
      "execution_count": null,
      "outputs": [
        {
          "output_type": "stream",
          "name": "stdout",
          "text": [
            "Sun Jan 15 20:59:15 2023       \n",
            "+-----------------------------------------------------------------------------+\n",
            "| NVIDIA-SMI 460.32.03    Driver Version: 460.32.03    CUDA Version: 11.2     |\n",
            "|-------------------------------+----------------------+----------------------+\n",
            "| GPU  Name        Persistence-M| Bus-Id        Disp.A | Volatile Uncorr. ECC |\n",
            "| Fan  Temp  Perf  Pwr:Usage/Cap|         Memory-Usage | GPU-Util  Compute M. |\n",
            "|                               |                      |               MIG M. |\n",
            "|===============================+======================+======================|\n",
            "|   0  Tesla T4            Off  | 00000000:00:04.0 Off |                    0 |\n",
            "| N/A   36C    P8     9W /  70W |      0MiB / 15109MiB |      0%      Default |\n",
            "|                               |                      |                  N/A |\n",
            "+-------------------------------+----------------------+----------------------+\n",
            "                                                                               \n",
            "+-----------------------------------------------------------------------------+\n",
            "| Processes:                                                                  |\n",
            "|  GPU   GI   CI        PID   Type   Process name                  GPU Memory |\n",
            "|        ID   ID                                                   Usage      |\n",
            "|=============================================================================|\n",
            "|  No running processes found                                                 |\n",
            "+-----------------------------------------------------------------------------+\n"
          ]
        }
      ]
    },
    {
      "cell_type": "code",
      "source": [
        "!pip install anndata\n",
        "!pip install scanpy\n",
        "!pip install pyreadr\n"
      ],
      "metadata": {
        "colab": {
          "base_uri": "https://localhost:8080/",
          "height": 1000
        },
        "id": "L76speejOqoc",
        "outputId": "d75157ec-da05-4d63-9d38-6f54d784f0eb"
      },
      "execution_count": 8,
      "outputs": [
        {
          "output_type": "stream",
          "name": "stdout",
          "text": [
            "Looking in indexes: https://pypi.org/simple, https://us-python.pkg.dev/colab-wheels/public/simple/\n",
            "Collecting anndata\n",
            "  Downloading anndata-0.8.0-py3-none-any.whl (96 kB)\n",
            "\u001b[2K     \u001b[90m━━━━━━━━━━━━━━━━━━━━━━━━━━━━━━━━━━━━━━━━\u001b[0m \u001b[32m96.1/96.1 KB\u001b[0m \u001b[31m6.9 MB/s\u001b[0m eta \u001b[36m0:00:00\u001b[0m\n",
            "\u001b[?25hRequirement already satisfied: natsort in /usr/local/lib/python3.8/dist-packages (from anndata) (5.5.0)\n",
            "Requirement already satisfied: h5py>=3 in /usr/local/lib/python3.8/dist-packages (from anndata) (3.1.0)\n",
            "Requirement already satisfied: scipy>1.4 in /usr/local/lib/python3.8/dist-packages (from anndata) (1.7.3)\n",
            "Requirement already satisfied: packaging>=20 in /usr/local/lib/python3.8/dist-packages (from anndata) (23.0)\n",
            "Requirement already satisfied: pandas>=1.1.1 in /usr/local/lib/python3.8/dist-packages (from anndata) (1.3.5)\n",
            "Requirement already satisfied: numpy>=1.16.5 in /usr/local/lib/python3.8/dist-packages (from anndata) (1.21.6)\n",
            "Requirement already satisfied: python-dateutil>=2.7.3 in /usr/local/lib/python3.8/dist-packages (from pandas>=1.1.1->anndata) (2.8.2)\n",
            "Requirement already satisfied: pytz>=2017.3 in /usr/local/lib/python3.8/dist-packages (from pandas>=1.1.1->anndata) (2022.7.1)\n",
            "Requirement already satisfied: six>=1.5 in /usr/local/lib/python3.8/dist-packages (from python-dateutil>=2.7.3->pandas>=1.1.1->anndata) (1.15.0)\n",
            "Installing collected packages: anndata\n",
            "Successfully installed anndata-0.8.0\n",
            "Looking in indexes: https://pypi.org/simple, https://us-python.pkg.dev/colab-wheels/public/simple/\n",
            "Collecting scanpy\n",
            "  Downloading scanpy-1.9.1-py3-none-any.whl (2.0 MB)\n",
            "\u001b[2K     \u001b[90m━━━━━━━━━━━━━━━━━━━━━━━━━━━━━━━━━━━━━━━━\u001b[0m \u001b[32m2.0/2.0 MB\u001b[0m \u001b[31m63.8 MB/s\u001b[0m eta \u001b[36m0:00:00\u001b[0m\n",
            "\u001b[?25hRequirement already satisfied: patsy in /usr/local/lib/python3.8/dist-packages (from scanpy) (0.5.3)\n",
            "Requirement already satisfied: anndata>=0.7.4 in /usr/local/lib/python3.8/dist-packages (from scanpy) (0.8.0)\n",
            "Requirement already satisfied: joblib in /usr/local/lib/python3.8/dist-packages (from scanpy) (1.2.0)\n",
            "Requirement already satisfied: pandas>=1.0 in /usr/local/lib/python3.8/dist-packages (from scanpy) (1.3.5)\n",
            "Requirement already satisfied: numba>=0.41.0 in /usr/local/lib/python3.8/dist-packages (from scanpy) (0.56.4)\n",
            "Requirement already satisfied: seaborn in /usr/local/lib/python3.8/dist-packages (from scanpy) (0.11.2)\n",
            "Requirement already satisfied: networkx>=2.3 in /usr/local/lib/python3.8/dist-packages (from scanpy) (3.0)\n",
            "Collecting session-info\n",
            "  Downloading session_info-1.0.0.tar.gz (24 kB)\n",
            "  Preparing metadata (setup.py) ... \u001b[?25l\u001b[?25hdone\n",
            "Requirement already satisfied: numpy>=1.17.0 in /usr/local/lib/python3.8/dist-packages (from scanpy) (1.21.6)\n",
            "Requirement already satisfied: scipy>=1.4 in /usr/local/lib/python3.8/dist-packages (from scanpy) (1.7.3)\n",
            "Requirement already satisfied: h5py>=3 in /usr/local/lib/python3.8/dist-packages (from scanpy) (3.1.0)\n",
            "Requirement already satisfied: packaging in /usr/local/lib/python3.8/dist-packages (from scanpy) (23.0)\n",
            "Collecting matplotlib>=3.4\n",
            "  Downloading matplotlib-3.6.3-cp38-cp38-manylinux_2_12_x86_64.manylinux2010_x86_64.whl (9.4 MB)\n",
            "\u001b[2K     \u001b[90m━━━━━━━━━━━━━━━━━━━━━━━━━━━━━━━━━━━━━━━━\u001b[0m \u001b[32m9.4/9.4 MB\u001b[0m \u001b[31m46.2 MB/s\u001b[0m eta \u001b[36m0:00:00\u001b[0m\n",
            "\u001b[?25hRequirement already satisfied: umap-learn>=0.3.10 in /usr/local/lib/python3.8/dist-packages (from scanpy) (0.5.3)\n",
            "Requirement already satisfied: tqdm in /usr/local/lib/python3.8/dist-packages (from scanpy) (4.64.1)\n",
            "Requirement already satisfied: scikit-learn>=0.22 in /usr/local/lib/python3.8/dist-packages (from scanpy) (1.0.2)\n",
            "Requirement already satisfied: statsmodels>=0.10.0rc2 in /usr/local/lib/python3.8/dist-packages (from scanpy) (0.12.2)\n",
            "Requirement already satisfied: natsort in /usr/local/lib/python3.8/dist-packages (from scanpy) (5.5.0)\n",
            "Requirement already satisfied: kiwisolver>=1.0.1 in /usr/local/lib/python3.8/dist-packages (from matplotlib>=3.4->scanpy) (1.4.4)\n",
            "Requirement already satisfied: pillow>=6.2.0 in /usr/local/lib/python3.8/dist-packages (from matplotlib>=3.4->scanpy) (7.1.2)\n",
            "Collecting fonttools>=4.22.0\n",
            "  Downloading fonttools-4.38.0-py3-none-any.whl (965 kB)\n",
            "\u001b[2K     \u001b[90m━━━━━━━━━━━━━━━━━━━━━━━━━━━━━━━━━━━━━━\u001b[0m \u001b[32m965.4/965.4 KB\u001b[0m \u001b[31m46.7 MB/s\u001b[0m eta \u001b[36m0:00:00\u001b[0m\n",
            "\u001b[?25hRequirement already satisfied: cycler>=0.10 in /usr/local/lib/python3.8/dist-packages (from matplotlib>=3.4->scanpy) (0.11.0)\n",
            "Requirement already satisfied: pyparsing>=2.2.1 in /usr/local/lib/python3.8/dist-packages (from matplotlib>=3.4->scanpy) (3.0.9)\n",
            "Requirement already satisfied: python-dateutil>=2.7 in /usr/local/lib/python3.8/dist-packages (from matplotlib>=3.4->scanpy) (2.8.2)\n",
            "Collecting contourpy>=1.0.1\n",
            "  Downloading contourpy-1.0.7-cp38-cp38-manylinux_2_17_x86_64.manylinux2014_x86_64.whl (300 kB)\n",
            "\u001b[2K     \u001b[90m━━━━━━━━━━━━━━━━━━━━━━━━━━━━━━━━━━━━━━\u001b[0m \u001b[32m300.0/300.0 KB\u001b[0m \u001b[31m18.5 MB/s\u001b[0m eta \u001b[36m0:00:00\u001b[0m\n",
            "\u001b[?25hRequirement already satisfied: llvmlite<0.40,>=0.39.0dev0 in /usr/local/lib/python3.8/dist-packages (from numba>=0.41.0->scanpy) (0.39.1)\n",
            "Requirement already satisfied: importlib-metadata in /usr/local/lib/python3.8/dist-packages (from numba>=0.41.0->scanpy) (6.0.0)\n",
            "Requirement already satisfied: setuptools in /usr/local/lib/python3.8/dist-packages (from numba>=0.41.0->scanpy) (57.4.0)\n",
            "Requirement already satisfied: pytz>=2017.3 in /usr/local/lib/python3.8/dist-packages (from pandas>=1.0->scanpy) (2022.7.1)\n",
            "Requirement already satisfied: threadpoolctl>=2.0.0 in /usr/local/lib/python3.8/dist-packages (from scikit-learn>=0.22->scanpy) (3.1.0)\n",
            "Requirement already satisfied: six in /usr/local/lib/python3.8/dist-packages (from patsy->scanpy) (1.15.0)\n",
            "Requirement already satisfied: pynndescent>=0.5 in /usr/local/lib/python3.8/dist-packages (from umap-learn>=0.3.10->scanpy) (0.5.8)\n",
            "Collecting stdlib_list\n",
            "  Downloading stdlib_list-0.8.0-py3-none-any.whl (63 kB)\n",
            "\u001b[2K     \u001b[90m━━━━━━━━━━━━━━━━━━━━━━━━━━━━━━━━━━━━━━━━\u001b[0m \u001b[32m63.5/63.5 KB\u001b[0m \u001b[31m4.9 MB/s\u001b[0m eta \u001b[36m0:00:00\u001b[0m\n",
            "\u001b[?25hRequirement already satisfied: zipp>=0.5 in /usr/local/lib/python3.8/dist-packages (from importlib-metadata->numba>=0.41.0->scanpy) (3.12.0)\n",
            "Building wheels for collected packages: session-info\n",
            "  Building wheel for session-info (setup.py) ... \u001b[?25l\u001b[?25hdone\n",
            "  Created wheel for session-info: filename=session_info-1.0.0-py3-none-any.whl size=8046 sha256=c06b7eac5769b574e6a7009a2bfe557015b6296604ba07782d0a652a6f768fb0\n",
            "  Stored in directory: /root/.cache/pip/wheels/5c/1b/4d/111d73980c5c6a8e5e5905a19eccc34296cb359cac54c6c5b9\n",
            "Successfully built session-info\n",
            "Installing collected packages: stdlib_list, session-info, fonttools, contourpy, matplotlib, scanpy\n",
            "  Attempting uninstall: matplotlib\n",
            "    Found existing installation: matplotlib 3.2.2\n",
            "    Uninstalling matplotlib-3.2.2:\n",
            "      Successfully uninstalled matplotlib-3.2.2\n",
            "Successfully installed contourpy-1.0.7 fonttools-4.38.0 matplotlib-3.6.3 scanpy-1.9.1 session-info-1.0.0 stdlib_list-0.8.0\n"
          ]
        },
        {
          "output_type": "display_data",
          "data": {
            "application/vnd.colab-display-data+json": {
              "pip_warning": {
                "packages": [
                  "matplotlib",
                  "mpl_toolkits"
                ]
              }
            }
          },
          "metadata": {}
        },
        {
          "output_type": "stream",
          "name": "stdout",
          "text": [
            "Looking in indexes: https://pypi.org/simple, https://us-python.pkg.dev/colab-wheels/public/simple/\n",
            "Collecting pyreadr\n",
            "  Downloading pyreadr-0.4.7-cp38-cp38-manylinux_2_17_x86_64.manylinux2014_x86_64.whl (364 kB)\n",
            "\u001b[2K     \u001b[90m━━━━━━━━━━━━━━━━━━━━━━━━━━━━━━━━━━━━━━\u001b[0m \u001b[32m365.0/365.0 KB\u001b[0m \u001b[31m22.8 MB/s\u001b[0m eta \u001b[36m0:00:00\u001b[0m\n",
            "\u001b[?25hRequirement already satisfied: pandas>=1.2.0 in /usr/local/lib/python3.8/dist-packages (from pyreadr) (1.3.5)\n",
            "Requirement already satisfied: numpy>=1.17.3 in /usr/local/lib/python3.8/dist-packages (from pandas>=1.2.0->pyreadr) (1.21.6)\n",
            "Requirement already satisfied: python-dateutil>=2.7.3 in /usr/local/lib/python3.8/dist-packages (from pandas>=1.2.0->pyreadr) (2.8.2)\n",
            "Requirement already satisfied: pytz>=2017.3 in /usr/local/lib/python3.8/dist-packages (from pandas>=1.2.0->pyreadr) (2022.7.1)\n",
            "Requirement already satisfied: six>=1.5 in /usr/local/lib/python3.8/dist-packages (from python-dateutil>=2.7.3->pandas>=1.2.0->pyreadr) (1.15.0)\n",
            "Installing collected packages: pyreadr\n",
            "Successfully installed pyreadr-0.4.7\n"
          ]
        }
      ]
    },
    {
      "cell_type": "code",
      "source": [
        "!pip install geomloss"
      ],
      "metadata": {
        "colab": {
          "base_uri": "https://localhost:8080/"
        },
        "id": "PDUDB-zCPLEz",
        "outputId": "545c7fcf-d7ed-44f6-cdef-48c85adc11b2"
      },
      "execution_count": 9,
      "outputs": [
        {
          "output_type": "stream",
          "name": "stdout",
          "text": [
            "Looking in indexes: https://pypi.org/simple, https://us-python.pkg.dev/colab-wheels/public/simple/\n",
            "Collecting geomloss\n",
            "  Downloading geomloss-0.2.5.tar.gz (26 kB)\n",
            "  Preparing metadata (setup.py) ... \u001b[?25l\u001b[?25hdone\n",
            "Requirement already satisfied: numpy in /usr/local/lib/python3.8/dist-packages (from geomloss) (1.21.6)\n",
            "Building wheels for collected packages: geomloss\n",
            "  Building wheel for geomloss (setup.py) ... \u001b[?25l\u001b[?25hdone\n",
            "  Created wheel for geomloss: filename=geomloss-0.2.5-py3-none-any.whl size=32069 sha256=e3e3962fd9deede4705c10dc924e2f371cab3f0a6165fde3e904f139176fbf63\n",
            "  Stored in directory: /root/.cache/pip/wheels/3f/ba/ac/e61f794175073650207d2ad91bea30e2553fc83f74fc9a6b82\n",
            "Successfully built geomloss\n",
            "Installing collected packages: geomloss\n",
            "Successfully installed geomloss-0.2.5\n"
          ]
        }
      ]
    },
    {
      "cell_type": "code",
      "source": [
        "!prescient process_data -d file.csv \\\n",
        "    --tp_col 'CellWeek' --celltype_col 'Assigned_cluster' --num_pcs 5"
      ],
      "metadata": {
        "colab": {
          "base_uri": "https://localhost:8080/"
        },
        "id": "heFvXpX-PLmU",
        "outputId": "5ba5ea77-835f-4bc9-a5df-721a4d776655"
      },
      "execution_count": null,
      "outputs": [
        {
          "output_type": "stream",
          "name": "stdout",
          "text": [
            "/bin/bash: prescient: command not found\n"
          ]
        }
      ]
    },
    {
      "cell_type": "code",
      "source": [
        "!npm install https://github.com/zkhodakarami/prescient-fork/prescient"
      ],
      "metadata": {
        "colab": {
          "base_uri": "https://localhost:8080/"
        },
        "id": "lCYCThnVP6ir",
        "outputId": "c6b26515-8b09-48e6-f3ab-2c4fa99a4746"
      },
      "execution_count": null,
      "outputs": [
        {
          "output_type": "stream",
          "name": "stdout",
          "text": [
            "\u001b[?25l[\u001b[90m..................\u001b[0m] / rollbackFailedOptional: \u001b[34;40mverb\u001b[0m \u001b[35mnpm-session\u001b[0m 7e1843bf0ba97b4\u001b[0m\u001b[K\r[\u001b[90m..................\u001b[0m] / rollbackFailedOptional: \u001b[34;40mverb\u001b[0m \u001b[35mnpm-session\u001b[0m 7e1843bf0ba97b4\u001b[0m\u001b[K\r[\u001b[90m..................\u001b[0m] / rollbackFailedOptional: \u001b[34;40mverb\u001b[0m \u001b[35mnpm-session\u001b[0m 7e1843bf0ba97b4\u001b[0m\u001b[K\r\r\u001b[K\u001b[?25h\u001b[37;40mnpm\u001b[0m \u001b[0m\u001b[31;40mERR!\u001b[0m \u001b[0m\u001b[35mcode\u001b[0m E404\n",
            "\u001b[0m\u001b[37;40mnpm\u001b[0m \u001b[0m\u001b[31;40mERR!\u001b[0m \u001b[0m\u001b[35m404\u001b[0m Not Found - GET https://github.com/zkhodakarami/prescient-fork/prescient\n",
            "\u001b[0m\u001b[37;40mnpm\u001b[0m \u001b[0m\u001b[31;40mERR!\u001b[0m \u001b[0m\u001b[35m404\u001b[0m \n",
            "\u001b[0m\u001b[37;40mnpm\u001b[0m \u001b[0m\u001b[31;40mERR!\u001b[0m \u001b[0m\u001b[35m404\u001b[0m  'https://github.com/zkhodakarami/prescient-fork/prescient' is not in the npm registry.\n",
            "\u001b[0m\u001b[37;40mnpm\u001b[0m \u001b[0m\u001b[31;40mERR!\u001b[0m \u001b[0m\u001b[35m404\u001b[0m Your package name is not valid, because \n",
            "\u001b[0m\u001b[37;40mnpm\u001b[0m \u001b[0m\u001b[31;40mERR!\u001b[0m \u001b[0m\u001b[35m404\u001b[0m  1. name can only contain URL-friendly characters\n",
            "\u001b[0m\u001b[37;40mnpm\u001b[0m \u001b[0m\u001b[31;40mERR!\u001b[0m \u001b[0m\u001b[35m404\u001b[0m \n",
            "\u001b[0m\u001b[37;40mnpm\u001b[0m \u001b[0m\u001b[31;40mERR!\u001b[0m \u001b[0m\u001b[35m404\u001b[0m Note that you can also install from a\n",
            "\u001b[0m\u001b[37;40mnpm\u001b[0m \u001b[0m\u001b[31;40mERR!\u001b[0m \u001b[0m\u001b[35m404\u001b[0m tarball, folder, http url, or git url.\n",
            "\u001b[0m\n",
            "\u001b[37;40mnpm\u001b[0m \u001b[0m\u001b[31;40mERR!\u001b[0m\u001b[35m\u001b[0m A complete log of this run can be found in:\n",
            "\u001b[0m\u001b[37;40mnpm\u001b[0m \u001b[0m\u001b[31;40mERR!\u001b[0m\u001b[35m\u001b[0m     /root/.npm/_logs/2023-01-15T21_11_50_620Z-debug.log\n",
            "\u001b[0m"
          ]
        }
      ]
    },
    {
      "cell_type": "code",
      "source": [
        "!pip install https://github.com/zkhodakarami/prescient-fork/prescient"
      ],
      "metadata": {
        "colab": {
          "base_uri": "https://localhost:8080/"
        },
        "id": "J9e42SDsQD3N",
        "outputId": "a82b1001-d67a-4efd-8428-92b50652ced8"
      },
      "execution_count": null,
      "outputs": [
        {
          "output_type": "stream",
          "name": "stdout",
          "text": [
            "Looking in indexes: https://pypi.org/simple, https://us-python.pkg.dev/colab-wheels/public/simple/\n",
            "Collecting https://github.com/zkhodakarami/prescient-fork/prescient\n",
            "\u001b[31m  ERROR: HTTP error 404 while getting https://github.com/zkhodakarami/prescient-fork/prescient\u001b[0m\u001b[31m\n",
            "\u001b[0m\u001b[31mERROR: Could not install requirement https://github.com/zkhodakarami/prescient-fork/prescient because of HTTP error 404 Client Error: Not Found for url: https://github.com/zkhodakarami/prescient-fork/prescient for URL https://github.com/zkhodakarami/prescient-fork/prescient\u001b[0m\u001b[31m\n",
            "\u001b[0m"
          ]
        }
      ]
    },
    {
      "cell_type": "code",
      "source": [
        "!prescient process_data -d file.csv \\\n",
        "    --tp_col 'CellWeek' --celltype_col 'Assigned_cluster' --num_pcs 5"
      ],
      "metadata": {
        "colab": {
          "base_uri": "https://localhost:8080/"
        },
        "id": "XTwXFrihQV9R",
        "outputId": "a8aa5adf-77d0-452d-9228-11252b8e6311"
      },
      "execution_count": null,
      "outputs": [
        {
          "output_type": "stream",
          "name": "stdout",
          "text": [
            "/bin/bash: prescient: command not found\n"
          ]
        }
      ]
    },
    {
      "cell_type": "code",
      "source": [
        "%cd /content/drive/MyDrive/Clone-Pre"
      ],
      "metadata": {
        "colab": {
          "base_uri": "https://localhost:8080/"
        },
        "id": "z3oBwCBuMsff",
        "outputId": "d1c9f08f-1461-4d8e-fbbc-7340adc64935"
      },
      "execution_count": 10,
      "outputs": [
        {
          "output_type": "stream",
          "name": "stdout",
          "text": [
            "/content/drive/MyDrive/Clone-Pre\n"
          ]
        }
      ]
    },
    {
      "cell_type": "code",
      "source": [
        "! git clone https://github.com/zkhodakarami/prescient-fork"
      ],
      "metadata": {
        "colab": {
          "base_uri": "https://localhost:8080/"
        },
        "id": "HK2eMxQcM-WK",
        "outputId": "34152337-fde0-4ae6-dcf2-03ba43f306ab"
      },
      "execution_count": 19,
      "outputs": [
        {
          "output_type": "stream",
          "name": "stdout",
          "text": [
            "Cloning into 'prescient-fork'...\n",
            "remote: Enumerating objects: 681, done.\u001b[K\n",
            "remote: Counting objects: 100% (118/118), done.\u001b[K\n",
            "remote: Compressing objects: 100% (95/95), done.\u001b[K\n",
            "remote: Total 681 (delta 70), reused 40 (delta 19), pack-reused 563\u001b[K\n",
            "Receiving objects: 100% (681/681), 8.41 MiB | 6.66 MiB/s, done.\n",
            "Resolving deltas: 100% (375/375), done.\n"
          ]
        }
      ]
    },
    {
      "cell_type": "code",
      "source": [
        "! git pull"
      ],
      "metadata": {
        "colab": {
          "base_uri": "https://localhost:8080/"
        },
        "id": "GlwdQbzUNnFj",
        "outputId": "f6de7ec8-bd47-4f5b-f34c-4c7b6c094f9a"
      },
      "execution_count": 20,
      "outputs": [
        {
          "output_type": "stream",
          "name": "stdout",
          "text": [
            "fatal: not a git repository (or any parent up to mount point /content)\n",
            "Stopping at filesystem boundary (GIT_DISCOVERY_ACROSS_FILESYSTEM not set).\n"
          ]
        }
      ]
    },
    {
      "cell_type": "code",
      "source": [
        "! pip install /content/drive/MyDrive/Clone-Pre/prescient-fork"
      ],
      "metadata": {
        "colab": {
          "base_uri": "https://localhost:8080/",
          "height": 1000
        },
        "id": "plUhq45YNnYz",
        "outputId": "d8f072c1-f1f0-426b-daf0-9870cb422f6a"
      },
      "execution_count": 44,
      "outputs": [
        {
          "output_type": "stream",
          "name": "stdout",
          "text": [
            "Looking in indexes: https://pypi.org/simple, https://us-python.pkg.dev/colab-wheels/public/simple/\n",
            "Processing ./prescient-fork\n",
            "  Installing build dependencies ... \u001b[?25l\u001b[?25hdone\n",
            "  Getting requirements to build wheel ... \u001b[?25l\u001b[?25hdone\n",
            "  Preparing metadata (pyproject.toml) ... \u001b[?25l\u001b[?25hdone\n",
            "Requirement already satisfied: torchvision>=0.7 in /usr/local/lib/python3.8/dist-packages (from prescient==0.1.0) (0.14.1+cu116)\n",
            "Requirement already satisfied: pykeops>=1.3 in /usr/local/lib/python3.8/dist-packages (from prescient==0.1.0) (2.1.1)\n",
            "Requirement already satisfied: numpy>=1.14 in /usr/local/lib/python3.8/dist-packages (from prescient==0.1.0) (1.21.6)\n",
            "Requirement already satisfied: geomloss==0.2.3 in /usr/local/lib/python3.8/dist-packages (from prescient==0.1.0) (0.2.3)\n",
            "Requirement already satisfied: setuptools>=41.6 in /usr/local/lib/python3.8/dist-packages (from prescient==0.1.0) (57.4.0)\n",
            "Requirement already satisfied: torch>=1.5 in /usr/local/lib/python3.8/dist-packages (from prescient==0.1.0) (1.13.1+cu116)\n",
            "Requirement already satisfied: annoy>=1.17.0 in /usr/local/lib/python3.8/dist-packages (from prescient==0.1.0) (1.17.1)\n",
            "Requirement already satisfied: pyreadr>=0.0 in /usr/local/lib/python3.8/dist-packages (from prescient==0.1.0) (0.4.7)\n",
            "Requirement already satisfied: scipy>=1.3 in /usr/local/lib/python3.8/dist-packages (from prescient==0.1.0) (1.7.3)\n",
            "Requirement already satisfied: scanpy>=1.7 in /usr/local/lib/python3.8/dist-packages (from prescient==0.1.0) (1.9.1)\n",
            "Requirement already satisfied: pandas>=0.25 in /usr/local/lib/python3.8/dist-packages (from prescient==0.1.0) (1.3.5)\n",
            "Requirement already satisfied: matplotlib>=3.3 in /usr/local/lib/python3.8/dist-packages (from prescient==0.1.0) (3.6.3)\n",
            "Requirement already satisfied: scikit-learn>=0.21 in /usr/local/lib/python3.8/dist-packages (from prescient==0.1.0) (1.0.2)\n",
            "Requirement already satisfied: python-dateutil>=2.7 in /usr/local/lib/python3.8/dist-packages (from matplotlib>=3.3->prescient==0.1.0) (2.8.2)\n",
            "Requirement already satisfied: packaging>=20.0 in /usr/local/lib/python3.8/dist-packages (from matplotlib>=3.3->prescient==0.1.0) (23.0)\n",
            "Requirement already satisfied: kiwisolver>=1.0.1 in /usr/local/lib/python3.8/dist-packages (from matplotlib>=3.3->prescient==0.1.0) (1.4.4)\n",
            "Requirement already satisfied: contourpy>=1.0.1 in /usr/local/lib/python3.8/dist-packages (from matplotlib>=3.3->prescient==0.1.0) (1.0.7)\n",
            "Requirement already satisfied: pyparsing>=2.2.1 in /usr/local/lib/python3.8/dist-packages (from matplotlib>=3.3->prescient==0.1.0) (3.0.9)\n",
            "Requirement already satisfied: fonttools>=4.22.0 in /usr/local/lib/python3.8/dist-packages (from matplotlib>=3.3->prescient==0.1.0) (4.38.0)\n",
            "Requirement already satisfied: cycler>=0.10 in /usr/local/lib/python3.8/dist-packages (from matplotlib>=3.3->prescient==0.1.0) (0.11.0)\n",
            "Requirement already satisfied: pillow>=6.2.0 in /usr/local/lib/python3.8/dist-packages (from matplotlib>=3.3->prescient==0.1.0) (7.1.2)\n",
            "Requirement already satisfied: pytz>=2017.3 in /usr/local/lib/python3.8/dist-packages (from pandas>=0.25->prescient==0.1.0) (2022.7.1)\n",
            "Requirement already satisfied: keopscore==2.1.1 in /usr/local/lib/python3.8/dist-packages (from pykeops>=1.3->prescient==0.1.0) (2.1.1)\n",
            "Requirement already satisfied: pybind11 in /usr/local/lib/python3.8/dist-packages (from pykeops>=1.3->prescient==0.1.0) (2.10.3)\n",
            "Requirement already satisfied: session-info in /usr/local/lib/python3.8/dist-packages (from scanpy>=1.7->prescient==0.1.0) (1.0.0)\n",
            "Requirement already satisfied: seaborn in /usr/local/lib/python3.8/dist-packages (from scanpy>=1.7->prescient==0.1.0) (0.11.2)\n",
            "Requirement already satisfied: anndata>=0.7.4 in /usr/local/lib/python3.8/dist-packages (from scanpy>=1.7->prescient==0.1.0) (0.8.0)\n",
            "Requirement already satisfied: h5py>=3 in /usr/local/lib/python3.8/dist-packages (from scanpy>=1.7->prescient==0.1.0) (3.1.0)\n",
            "Requirement already satisfied: joblib in /usr/local/lib/python3.8/dist-packages (from scanpy>=1.7->prescient==0.1.0) (1.2.0)\n",
            "Requirement already satisfied: numba>=0.41.0 in /usr/local/lib/python3.8/dist-packages (from scanpy>=1.7->prescient==0.1.0) (0.56.4)\n",
            "Requirement already satisfied: patsy in /usr/local/lib/python3.8/dist-packages (from scanpy>=1.7->prescient==0.1.0) (0.5.3)\n",
            "Requirement already satisfied: statsmodels>=0.10.0rc2 in /usr/local/lib/python3.8/dist-packages (from scanpy>=1.7->prescient==0.1.0) (0.12.2)\n",
            "Requirement already satisfied: networkx>=2.3 in /usr/local/lib/python3.8/dist-packages (from scanpy>=1.7->prescient==0.1.0) (3.0)\n",
            "Requirement already satisfied: umap-learn>=0.3.10 in /usr/local/lib/python3.8/dist-packages (from scanpy>=1.7->prescient==0.1.0) (0.5.3)\n",
            "Requirement already satisfied: natsort in /usr/local/lib/python3.8/dist-packages (from scanpy>=1.7->prescient==0.1.0) (5.5.0)\n",
            "Requirement already satisfied: tqdm in /usr/local/lib/python3.8/dist-packages (from scanpy>=1.7->prescient==0.1.0) (4.64.1)\n",
            "Requirement already satisfied: threadpoolctl>=2.0.0 in /usr/local/lib/python3.8/dist-packages (from scikit-learn>=0.21->prescient==0.1.0) (3.1.0)\n",
            "Requirement already satisfied: typing-extensions in /usr/local/lib/python3.8/dist-packages (from torch>=1.5->prescient==0.1.0) (4.4.0)\n",
            "Requirement already satisfied: requests in /usr/local/lib/python3.8/dist-packages (from torchvision>=0.7->prescient==0.1.0) (2.25.1)\n",
            "Requirement already satisfied: importlib-metadata in /usr/local/lib/python3.8/dist-packages (from numba>=0.41.0->scanpy>=1.7->prescient==0.1.0) (6.0.0)\n",
            "Requirement already satisfied: llvmlite<0.40,>=0.39.0dev0 in /usr/local/lib/python3.8/dist-packages (from numba>=0.41.0->scanpy>=1.7->prescient==0.1.0) (0.39.1)\n",
            "Requirement already satisfied: six>=1.5 in /usr/local/lib/python3.8/dist-packages (from python-dateutil>=2.7->matplotlib>=3.3->prescient==0.1.0) (1.15.0)\n",
            "Requirement already satisfied: pynndescent>=0.5 in /usr/local/lib/python3.8/dist-packages (from umap-learn>=0.3.10->scanpy>=1.7->prescient==0.1.0) (0.5.8)\n",
            "Requirement already satisfied: certifi>=2017.4.17 in /usr/local/lib/python3.8/dist-packages (from requests->torchvision>=0.7->prescient==0.1.0) (2022.12.7)\n",
            "Requirement already satisfied: chardet<5,>=3.0.2 in /usr/local/lib/python3.8/dist-packages (from requests->torchvision>=0.7->prescient==0.1.0) (4.0.0)\n",
            "Requirement already satisfied: idna<3,>=2.5 in /usr/local/lib/python3.8/dist-packages (from requests->torchvision>=0.7->prescient==0.1.0) (2.10)\n",
            "Requirement already satisfied: urllib3<1.27,>=1.21.1 in /usr/local/lib/python3.8/dist-packages (from requests->torchvision>=0.7->prescient==0.1.0) (1.24.3)\n",
            "Requirement already satisfied: stdlib-list in /usr/local/lib/python3.8/dist-packages (from session-info->scanpy>=1.7->prescient==0.1.0) (0.8.0)\n",
            "Requirement already satisfied: zipp>=0.5 in /usr/local/lib/python3.8/dist-packages (from importlib-metadata->numba>=0.41.0->scanpy>=1.7->prescient==0.1.0) (3.12.0)\n",
            "Building wheels for collected packages: prescient\n",
            "  Building wheel for prescient (pyproject.toml) ... \u001b[?25l\u001b[?25hdone\n",
            "  Created wheel for prescient: filename=prescient-0.1.0-py3-none-any.whl size=17797 sha256=c6ae424cec2f2dfdaa80eaf942de056a1a2c0ec629261e7782375c2e3fe563a4\n",
            "  Stored in directory: /root/.cache/pip/wheels/96/7c/d6/2aa1307e54189169ec024bb42fe3381973cc83a22c849c86da\n",
            "Successfully built prescient\n",
            "Installing collected packages: prescient\n",
            "  Attempting uninstall: prescient\n",
            "    Found existing installation: prescient 0.1.0\n",
            "    Uninstalling prescient-0.1.0:\n",
            "      Successfully uninstalled prescient-0.1.0\n",
            "Successfully installed prescient-0.1.0\n"
          ]
        },
        {
          "output_type": "display_data",
          "data": {
            "application/vnd.colab-display-data+json": {
              "pip_warning": {
                "packages": [
                  "prescient"
                ]
              }
            }
          },
          "metadata": {}
        }
      ]
    },
    {
      "cell_type": "code",
      "source": [
        "import numpy as np\n",
        "exp_num=clean_dataset(exp_num)\n",
        "exp_num.to_csv('file.csv')"
      ],
      "metadata": {
        "id": "O8-GBaVzP5xB"
      },
      "execution_count": 14,
      "outputs": []
    },
    {
      "cell_type": "markdown",
      "source": [
        "we have data.pt now"
      ],
      "metadata": {
        "id": "9bEfBEmRR3t_"
      }
    },
    {
      "cell_type": "code",
      "source": [
        "!prescient process_data -d file.csv \\\n",
        "                        -o './' \\\n",
        "     --celltype_col 'Assigned_cluster' --num_pcs 5"
      ],
      "metadata": {
        "colab": {
          "base_uri": "https://localhost:8080/"
        },
        "id": "6RKahgbqOTKG",
        "outputId": "b300d5bb-e447-46e7-9cd5-dd4fe1bed2de"
      },
      "execution_count": 15,
      "outputs": [
        {
          "output_type": "stream",
          "name": "stdout",
          "text": [
            "[KeOps] Compiling cuda jit compiler engine ... OK\n",
            "[pyKeOps] Compiling nvrtc binder for python ... OK\n",
            "tcmalloc: large alloc 2553667584 bytes == 0xcec88000 @  0x7f1b7f837680 0x7f1b7f8572ec 0x7f1b7e6d122f 0x7f1b7e72968b 0x7f1b7e72a4f7 0x7f1b7e7cc913 0x5c4677 0x570b82 0x569d8a 0x5f60c3 0x570b82 0x569d8a 0x5f60c3 0x59c39d 0x5f666f 0x570d34 0x569d8a 0x5f60c3 0x56cc92 0x569d8a 0x5f60c3 0x56cc92 0x569d8a 0x5f60c3 0x56cc92 0x5f5ee6 0x56bbe1 0x569d8a 0x5f60c3 0x56bbe1 0x569d8a\n",
            "tcmalloc: large alloc 2553667584 bytes == 0x7f1989ef6000 @  0x7f1b7f837680 0x7f1b7f858824 0x7f1b7e6d114e 0x7f1b7e729745 0x7f1b7e7298ec 0x7f1ae53e9220 0x7f1ae53df511 0x5f6706 0x571143 0x5f5ee6 0x56bbe1 0x569d8a 0x5f60c3 0x56cc92 0x569d8a 0x5f60c3 0x56cc92 0x569d8a 0x5f60c3 0x56cc92 0x5f5ee6 0x56bbe1 0x569d8a 0x5f60c3 0x56bbe1 0x569d8a 0x5f60c3 0x56bbe1 0x5f5ee6 0x56bab6 0x5f5ee6\n"
          ]
        }
      ]
    },
    {
      "cell_type": "code",
      "source": [
        "import prescient"
      ],
      "metadata": {
        "id": "W-YmE4rrSOkx"
      },
      "execution_count": 24,
      "outputs": []
    },
    {
      "cell_type": "code",
      "source": [
        "!prescient train_model -i data.pt \\\n",
        "    --out_dir /experiments/ \\\n",
        "    --gpu 0 \\\n",
        "    --pretrain_epochs 10 \\\n",
        "    --train_epochs 10"
      ],
      "metadata": {
        "colab": {
          "base_uri": "https://localhost:8080/"
        },
        "id": "4X8xwF0LQY0h",
        "outputId": "2de00f99-d5d2-4368-ef94-6ee6c55903d9"
      },
      "execution_count": 45,
      "outputs": [
        {
          "output_type": "stream",
          "name": "stdout",
          "text": [
            "Directory exists at /experiments/softplus_1_500-1e-06/seed_2\n",
            "AutoGenerator(\n",
            "  (net): Sequential(\n",
            "    (linear1): Linear(in_features=5, out_features=500, bias=True)\n",
            "    (softplus1): Softplus(beta=1, threshold=20)\n",
            "    (linear): Linear(in_features=500, out_features=1, bias=False)\n",
            "  )\n",
            ")\n",
            "[]\n",
            "Traceback (most recent call last):\n",
            "  File \"/usr/local/bin/prescient\", line 8, in <module>\n",
            "    sys.exit(main())\n",
            "  File \"/usr/local/lib/python3.8/dist-packages/prescient/__main__.py\", line 18, in main\n",
            "    cmd.main(args)\n",
            "  File \"/usr/local/lib/python3.8/dist-packages/prescient/commands/train_model.py\", line 152, in main\n",
            "    train.run(args, train_init)\n",
            "  File \"/usr/local/lib/python3.8/dist-packages/prescient/train/run.py\", line 53, in run\n",
            "    x_last = x[config.train_t[-1]].to(device) # use the last available training point\n",
            "IndexError: list index out of range\n"
          ]
        }
      ]
    },
    {
      "cell_type": "code",
      "source": [
        "exp_num.shape[0]"
      ],
      "metadata": {
        "colab": {
          "base_uri": "https://localhost:8080/"
        },
        "id": "vo6RcoVlP7m1",
        "outputId": "b8d05c36-4831-4914-eac0-89abbba2458f"
      },
      "execution_count": null,
      "outputs": [
        {
          "output_type": "execute_result",
          "data": {
            "text/plain": [
              "467361"
            ]
          },
          "metadata": {},
          "execution_count": 24
        }
      ]
    },
    {
      "cell_type": "code",
      "source": [
        "exp_num.dropna()"
      ],
      "metadata": {
        "colab": {
          "base_uri": "https://localhost:8080/",
          "height": 519
        },
        "id": "m1tRFfK1TrNh",
        "outputId": "2928e8a2-9540-4b6c-e7cf-7cb7866742d3"
      },
      "execution_count": null,
      "outputs": [
        {
          "output_type": "execute_result",
          "data": {
            "text/plain": [
              "               Phospho_c_Jun  Phospho_ATF2  Phospho_Fra1     c_Fos     c_Jun  \\\n",
              "Phospho_c_Fos                                                                  \n",
              "2.482309            2.566314      2.347076      3.725452  2.717293  2.757141   \n",
              "2.507659            2.443444      2.363911      3.809165  2.723162  2.509363   \n",
              "3.128445            3.230032      2.690699      4.355289  3.304874  3.651961   \n",
              "2.614351            2.583048      2.399141      3.928000  2.740837  2.625010   \n",
              "2.269206            2.434744      2.345996      3.746324  2.542989  2.804418   \n",
              "...                      ...           ...           ...       ...       ...   \n",
              "2.049080            2.354623      2.305419      2.605872  2.574471  3.014040   \n",
              "2.093018            2.482570      2.636628      2.464444  2.615555  2.731848   \n",
              "2.296094            2.432656      2.332800      2.752879  2.648836  3.006212   \n",
              "2.013204            2.107711      2.449203      2.457013  2.339996  2.276881   \n",
              "2.063834            2.323239      2.390743      2.618343  2.522954  2.531381   \n",
              "\n",
              "                   Fra1      JunD      ATF2      JunB      Fra2  ...  \\\n",
              "Phospho_c_Fos                                                    ...   \n",
              "2.482309       3.817022  3.534199  3.111005  3.634476  2.981213  ...   \n",
              "2.507659       3.793575  3.320416  2.923885  3.523222  2.656339  ...   \n",
              "3.128445       4.184460  3.669419  3.140430  3.880478  3.666164  ...   \n",
              "2.614351       3.883700  3.346847  2.925226  3.679446  2.920995  ...   \n",
              "2.269206       3.697967  3.149210  2.916250  3.338552  2.935117  ...   \n",
              "...                 ...       ...       ...       ...       ...  ...   \n",
              "2.049080       3.384232  2.991910  2.853337  2.827026  2.940754  ...   \n",
              "2.093018       3.205062  3.308784  2.980309  3.137249  2.738660  ...   \n",
              "2.296094       3.229613  2.963223  2.743841  2.748887  2.990090  ...   \n",
              "2.013204       3.139329  2.890538  2.654787  2.852538  2.346472  ...   \n",
              "2.063834       3.329970  2.866113  2.726894  2.529386  2.540971  ...   \n",
              "\n",
              "               Phospho_p38     Ki_67  NF_kappaB     MiTFg       AXL     Sox10  \\\n",
              "Phospho_c_Fos                                                                   \n",
              "2.482309          3.041194  3.751343   3.547431  3.736449  3.373901  3.737063   \n",
              "2.507659          2.961434  3.861726   3.508702  3.630648  3.643372  3.597944   \n",
              "3.128445          3.063199  4.035174   3.591757  3.549209  4.065621  3.870810   \n",
              "2.614351          3.006989  4.182933   3.760017  3.799474  3.742439  3.683257   \n",
              "2.269206          2.796205  3.980446   3.591768  3.422480  3.822521  3.533335   \n",
              "...                    ...       ...        ...       ...       ...       ...   \n",
              "2.049080          2.857174  3.152570   3.690612  3.711138  3.531403  3.698844   \n",
              "2.093018          2.850156  3.947636   3.474140  3.537344  3.333119  3.669927   \n",
              "2.296094          2.745950  3.227502   3.779227  3.731610  4.072866  3.637218   \n",
              "2.013204          2.790622  3.436828   3.449772  3.677459  3.264417  3.546369   \n",
              "2.063834          2.910573  3.802078   3.733844  3.456433  3.541194  3.581781   \n",
              "\n",
              "               timepoint_id  drug_id  dose_id  Rep  \n",
              "Phospho_c_Fos                                       \n",
              "2.482309                1.0      1.0      1.0  1.0  \n",
              "2.507659                1.0      1.0      1.0  1.0  \n",
              "3.128445                1.0      1.0      1.0  1.0  \n",
              "2.614351                1.0      1.0      1.0  1.0  \n",
              "2.269206                1.0      1.0      1.0  1.0  \n",
              "...                     ...      ...      ...  ...  \n",
              "2.049080                5.0      2.0      5.0  3.0  \n",
              "2.093018                5.0      2.0      5.0  3.0  \n",
              "2.296094                5.0      2.0      5.0  3.0  \n",
              "2.013204                5.0      2.0      5.0  3.0  \n",
              "2.063834                5.0      2.0      5.0  3.0  \n",
              "\n",
              "[467361 rows x 29 columns]"
            ],
            "text/html": [
              "\n",
              "  <div id=\"df-210a082e-fd59-4a57-84cb-ee539ae3f8d6\">\n",
              "    <div class=\"colab-df-container\">\n",
              "      <div>\n",
              "<style scoped>\n",
              "    .dataframe tbody tr th:only-of-type {\n",
              "        vertical-align: middle;\n",
              "    }\n",
              "\n",
              "    .dataframe tbody tr th {\n",
              "        vertical-align: top;\n",
              "    }\n",
              "\n",
              "    .dataframe thead th {\n",
              "        text-align: right;\n",
              "    }\n",
              "</style>\n",
              "<table border=\"1\" class=\"dataframe\">\n",
              "  <thead>\n",
              "    <tr style=\"text-align: right;\">\n",
              "      <th></th>\n",
              "      <th>Phospho_c_Jun</th>\n",
              "      <th>Phospho_ATF2</th>\n",
              "      <th>Phospho_Fra1</th>\n",
              "      <th>c_Fos</th>\n",
              "      <th>c_Jun</th>\n",
              "      <th>Fra1</th>\n",
              "      <th>JunD</th>\n",
              "      <th>ATF2</th>\n",
              "      <th>JunB</th>\n",
              "      <th>Fra2</th>\n",
              "      <th>...</th>\n",
              "      <th>Phospho_p38</th>\n",
              "      <th>Ki_67</th>\n",
              "      <th>NF_kappaB</th>\n",
              "      <th>MiTFg</th>\n",
              "      <th>AXL</th>\n",
              "      <th>Sox10</th>\n",
              "      <th>timepoint_id</th>\n",
              "      <th>drug_id</th>\n",
              "      <th>dose_id</th>\n",
              "      <th>Rep</th>\n",
              "    </tr>\n",
              "    <tr>\n",
              "      <th>Phospho_c_Fos</th>\n",
              "      <th></th>\n",
              "      <th></th>\n",
              "      <th></th>\n",
              "      <th></th>\n",
              "      <th></th>\n",
              "      <th></th>\n",
              "      <th></th>\n",
              "      <th></th>\n",
              "      <th></th>\n",
              "      <th></th>\n",
              "      <th></th>\n",
              "      <th></th>\n",
              "      <th></th>\n",
              "      <th></th>\n",
              "      <th></th>\n",
              "      <th></th>\n",
              "      <th></th>\n",
              "      <th></th>\n",
              "      <th></th>\n",
              "      <th></th>\n",
              "      <th></th>\n",
              "    </tr>\n",
              "  </thead>\n",
              "  <tbody>\n",
              "    <tr>\n",
              "      <th>2.482309</th>\n",
              "      <td>2.566314</td>\n",
              "      <td>2.347076</td>\n",
              "      <td>3.725452</td>\n",
              "      <td>2.717293</td>\n",
              "      <td>2.757141</td>\n",
              "      <td>3.817022</td>\n",
              "      <td>3.534199</td>\n",
              "      <td>3.111005</td>\n",
              "      <td>3.634476</td>\n",
              "      <td>2.981213</td>\n",
              "      <td>...</td>\n",
              "      <td>3.041194</td>\n",
              "      <td>3.751343</td>\n",
              "      <td>3.547431</td>\n",
              "      <td>3.736449</td>\n",
              "      <td>3.373901</td>\n",
              "      <td>3.737063</td>\n",
              "      <td>1.0</td>\n",
              "      <td>1.0</td>\n",
              "      <td>1.0</td>\n",
              "      <td>1.0</td>\n",
              "    </tr>\n",
              "    <tr>\n",
              "      <th>2.507659</th>\n",
              "      <td>2.443444</td>\n",
              "      <td>2.363911</td>\n",
              "      <td>3.809165</td>\n",
              "      <td>2.723162</td>\n",
              "      <td>2.509363</td>\n",
              "      <td>3.793575</td>\n",
              "      <td>3.320416</td>\n",
              "      <td>2.923885</td>\n",
              "      <td>3.523222</td>\n",
              "      <td>2.656339</td>\n",
              "      <td>...</td>\n",
              "      <td>2.961434</td>\n",
              "      <td>3.861726</td>\n",
              "      <td>3.508702</td>\n",
              "      <td>3.630648</td>\n",
              "      <td>3.643372</td>\n",
              "      <td>3.597944</td>\n",
              "      <td>1.0</td>\n",
              "      <td>1.0</td>\n",
              "      <td>1.0</td>\n",
              "      <td>1.0</td>\n",
              "    </tr>\n",
              "    <tr>\n",
              "      <th>3.128445</th>\n",
              "      <td>3.230032</td>\n",
              "      <td>2.690699</td>\n",
              "      <td>4.355289</td>\n",
              "      <td>3.304874</td>\n",
              "      <td>3.651961</td>\n",
              "      <td>4.184460</td>\n",
              "      <td>3.669419</td>\n",
              "      <td>3.140430</td>\n",
              "      <td>3.880478</td>\n",
              "      <td>3.666164</td>\n",
              "      <td>...</td>\n",
              "      <td>3.063199</td>\n",
              "      <td>4.035174</td>\n",
              "      <td>3.591757</td>\n",
              "      <td>3.549209</td>\n",
              "      <td>4.065621</td>\n",
              "      <td>3.870810</td>\n",
              "      <td>1.0</td>\n",
              "      <td>1.0</td>\n",
              "      <td>1.0</td>\n",
              "      <td>1.0</td>\n",
              "    </tr>\n",
              "    <tr>\n",
              "      <th>2.614351</th>\n",
              "      <td>2.583048</td>\n",
              "      <td>2.399141</td>\n",
              "      <td>3.928000</td>\n",
              "      <td>2.740837</td>\n",
              "      <td>2.625010</td>\n",
              "      <td>3.883700</td>\n",
              "      <td>3.346847</td>\n",
              "      <td>2.925226</td>\n",
              "      <td>3.679446</td>\n",
              "      <td>2.920995</td>\n",
              "      <td>...</td>\n",
              "      <td>3.006989</td>\n",
              "      <td>4.182933</td>\n",
              "      <td>3.760017</td>\n",
              "      <td>3.799474</td>\n",
              "      <td>3.742439</td>\n",
              "      <td>3.683257</td>\n",
              "      <td>1.0</td>\n",
              "      <td>1.0</td>\n",
              "      <td>1.0</td>\n",
              "      <td>1.0</td>\n",
              "    </tr>\n",
              "    <tr>\n",
              "      <th>2.269206</th>\n",
              "      <td>2.434744</td>\n",
              "      <td>2.345996</td>\n",
              "      <td>3.746324</td>\n",
              "      <td>2.542989</td>\n",
              "      <td>2.804418</td>\n",
              "      <td>3.697967</td>\n",
              "      <td>3.149210</td>\n",
              "      <td>2.916250</td>\n",
              "      <td>3.338552</td>\n",
              "      <td>2.935117</td>\n",
              "      <td>...</td>\n",
              "      <td>2.796205</td>\n",
              "      <td>3.980446</td>\n",
              "      <td>3.591768</td>\n",
              "      <td>3.422480</td>\n",
              "      <td>3.822521</td>\n",
              "      <td>3.533335</td>\n",
              "      <td>1.0</td>\n",
              "      <td>1.0</td>\n",
              "      <td>1.0</td>\n",
              "      <td>1.0</td>\n",
              "    </tr>\n",
              "    <tr>\n",
              "      <th>...</th>\n",
              "      <td>...</td>\n",
              "      <td>...</td>\n",
              "      <td>...</td>\n",
              "      <td>...</td>\n",
              "      <td>...</td>\n",
              "      <td>...</td>\n",
              "      <td>...</td>\n",
              "      <td>...</td>\n",
              "      <td>...</td>\n",
              "      <td>...</td>\n",
              "      <td>...</td>\n",
              "      <td>...</td>\n",
              "      <td>...</td>\n",
              "      <td>...</td>\n",
              "      <td>...</td>\n",
              "      <td>...</td>\n",
              "      <td>...</td>\n",
              "      <td>...</td>\n",
              "      <td>...</td>\n",
              "      <td>...</td>\n",
              "      <td>...</td>\n",
              "    </tr>\n",
              "    <tr>\n",
              "      <th>2.049080</th>\n",
              "      <td>2.354623</td>\n",
              "      <td>2.305419</td>\n",
              "      <td>2.605872</td>\n",
              "      <td>2.574471</td>\n",
              "      <td>3.014040</td>\n",
              "      <td>3.384232</td>\n",
              "      <td>2.991910</td>\n",
              "      <td>2.853337</td>\n",
              "      <td>2.827026</td>\n",
              "      <td>2.940754</td>\n",
              "      <td>...</td>\n",
              "      <td>2.857174</td>\n",
              "      <td>3.152570</td>\n",
              "      <td>3.690612</td>\n",
              "      <td>3.711138</td>\n",
              "      <td>3.531403</td>\n",
              "      <td>3.698844</td>\n",
              "      <td>5.0</td>\n",
              "      <td>2.0</td>\n",
              "      <td>5.0</td>\n",
              "      <td>3.0</td>\n",
              "    </tr>\n",
              "    <tr>\n",
              "      <th>2.093018</th>\n",
              "      <td>2.482570</td>\n",
              "      <td>2.636628</td>\n",
              "      <td>2.464444</td>\n",
              "      <td>2.615555</td>\n",
              "      <td>2.731848</td>\n",
              "      <td>3.205062</td>\n",
              "      <td>3.308784</td>\n",
              "      <td>2.980309</td>\n",
              "      <td>3.137249</td>\n",
              "      <td>2.738660</td>\n",
              "      <td>...</td>\n",
              "      <td>2.850156</td>\n",
              "      <td>3.947636</td>\n",
              "      <td>3.474140</td>\n",
              "      <td>3.537344</td>\n",
              "      <td>3.333119</td>\n",
              "      <td>3.669927</td>\n",
              "      <td>5.0</td>\n",
              "      <td>2.0</td>\n",
              "      <td>5.0</td>\n",
              "      <td>3.0</td>\n",
              "    </tr>\n",
              "    <tr>\n",
              "      <th>2.296094</th>\n",
              "      <td>2.432656</td>\n",
              "      <td>2.332800</td>\n",
              "      <td>2.752879</td>\n",
              "      <td>2.648836</td>\n",
              "      <td>3.006212</td>\n",
              "      <td>3.229613</td>\n",
              "      <td>2.963223</td>\n",
              "      <td>2.743841</td>\n",
              "      <td>2.748887</td>\n",
              "      <td>2.990090</td>\n",
              "      <td>...</td>\n",
              "      <td>2.745950</td>\n",
              "      <td>3.227502</td>\n",
              "      <td>3.779227</td>\n",
              "      <td>3.731610</td>\n",
              "      <td>4.072866</td>\n",
              "      <td>3.637218</td>\n",
              "      <td>5.0</td>\n",
              "      <td>2.0</td>\n",
              "      <td>5.0</td>\n",
              "      <td>3.0</td>\n",
              "    </tr>\n",
              "    <tr>\n",
              "      <th>2.013204</th>\n",
              "      <td>2.107711</td>\n",
              "      <td>2.449203</td>\n",
              "      <td>2.457013</td>\n",
              "      <td>2.339996</td>\n",
              "      <td>2.276881</td>\n",
              "      <td>3.139329</td>\n",
              "      <td>2.890538</td>\n",
              "      <td>2.654787</td>\n",
              "      <td>2.852538</td>\n",
              "      <td>2.346472</td>\n",
              "      <td>...</td>\n",
              "      <td>2.790622</td>\n",
              "      <td>3.436828</td>\n",
              "      <td>3.449772</td>\n",
              "      <td>3.677459</td>\n",
              "      <td>3.264417</td>\n",
              "      <td>3.546369</td>\n",
              "      <td>5.0</td>\n",
              "      <td>2.0</td>\n",
              "      <td>5.0</td>\n",
              "      <td>3.0</td>\n",
              "    </tr>\n",
              "    <tr>\n",
              "      <th>2.063834</th>\n",
              "      <td>2.323239</td>\n",
              "      <td>2.390743</td>\n",
              "      <td>2.618343</td>\n",
              "      <td>2.522954</td>\n",
              "      <td>2.531381</td>\n",
              "      <td>3.329970</td>\n",
              "      <td>2.866113</td>\n",
              "      <td>2.726894</td>\n",
              "      <td>2.529386</td>\n",
              "      <td>2.540971</td>\n",
              "      <td>...</td>\n",
              "      <td>2.910573</td>\n",
              "      <td>3.802078</td>\n",
              "      <td>3.733844</td>\n",
              "      <td>3.456433</td>\n",
              "      <td>3.541194</td>\n",
              "      <td>3.581781</td>\n",
              "      <td>5.0</td>\n",
              "      <td>2.0</td>\n",
              "      <td>5.0</td>\n",
              "      <td>3.0</td>\n",
              "    </tr>\n",
              "  </tbody>\n",
              "</table>\n",
              "<p>467361 rows × 29 columns</p>\n",
              "</div>\n",
              "      <button class=\"colab-df-convert\" onclick=\"convertToInteractive('df-210a082e-fd59-4a57-84cb-ee539ae3f8d6')\"\n",
              "              title=\"Convert this dataframe to an interactive table.\"\n",
              "              style=\"display:none;\">\n",
              "        \n",
              "  <svg xmlns=\"http://www.w3.org/2000/svg\" height=\"24px\"viewBox=\"0 0 24 24\"\n",
              "       width=\"24px\">\n",
              "    <path d=\"M0 0h24v24H0V0z\" fill=\"none\"/>\n",
              "    <path d=\"M18.56 5.44l.94 2.06.94-2.06 2.06-.94-2.06-.94-.94-2.06-.94 2.06-2.06.94zm-11 1L8.5 8.5l.94-2.06 2.06-.94-2.06-.94L8.5 2.5l-.94 2.06-2.06.94zm10 10l.94 2.06.94-2.06 2.06-.94-2.06-.94-.94-2.06-.94 2.06-2.06.94z\"/><path d=\"M17.41 7.96l-1.37-1.37c-.4-.4-.92-.59-1.43-.59-.52 0-1.04.2-1.43.59L10.3 9.45l-7.72 7.72c-.78.78-.78 2.05 0 2.83L4 21.41c.39.39.9.59 1.41.59.51 0 1.02-.2 1.41-.59l7.78-7.78 2.81-2.81c.8-.78.8-2.07 0-2.86zM5.41 20L4 18.59l7.72-7.72 1.47 1.35L5.41 20z\"/>\n",
              "  </svg>\n",
              "      </button>\n",
              "      \n",
              "  <style>\n",
              "    .colab-df-container {\n",
              "      display:flex;\n",
              "      flex-wrap:wrap;\n",
              "      gap: 12px;\n",
              "    }\n",
              "\n",
              "    .colab-df-convert {\n",
              "      background-color: #E8F0FE;\n",
              "      border: none;\n",
              "      border-radius: 50%;\n",
              "      cursor: pointer;\n",
              "      display: none;\n",
              "      fill: #1967D2;\n",
              "      height: 32px;\n",
              "      padding: 0 0 0 0;\n",
              "      width: 32px;\n",
              "    }\n",
              "\n",
              "    .colab-df-convert:hover {\n",
              "      background-color: #E2EBFA;\n",
              "      box-shadow: 0px 1px 2px rgba(60, 64, 67, 0.3), 0px 1px 3px 1px rgba(60, 64, 67, 0.15);\n",
              "      fill: #174EA6;\n",
              "    }\n",
              "\n",
              "    [theme=dark] .colab-df-convert {\n",
              "      background-color: #3B4455;\n",
              "      fill: #D2E3FC;\n",
              "    }\n",
              "\n",
              "    [theme=dark] .colab-df-convert:hover {\n",
              "      background-color: #434B5C;\n",
              "      box-shadow: 0px 1px 3px 1px rgba(0, 0, 0, 0.15);\n",
              "      filter: drop-shadow(0px 1px 2px rgba(0, 0, 0, 0.3));\n",
              "      fill: #FFFFFF;\n",
              "    }\n",
              "  </style>\n",
              "\n",
              "      <script>\n",
              "        const buttonEl =\n",
              "          document.querySelector('#df-210a082e-fd59-4a57-84cb-ee539ae3f8d6 button.colab-df-convert');\n",
              "        buttonEl.style.display =\n",
              "          google.colab.kernel.accessAllowed ? 'block' : 'none';\n",
              "\n",
              "        async function convertToInteractive(key) {\n",
              "          const element = document.querySelector('#df-210a082e-fd59-4a57-84cb-ee539ae3f8d6');\n",
              "          const dataTable =\n",
              "            await google.colab.kernel.invokeFunction('convertToInteractive',\n",
              "                                                     [key], {});\n",
              "          if (!dataTable) return;\n",
              "\n",
              "          const docLinkHtml = 'Like what you see? Visit the ' +\n",
              "            '<a target=\"_blank\" href=https://colab.research.google.com/notebooks/data_table.ipynb>data table notebook</a>'\n",
              "            + ' to learn more about interactive tables.';\n",
              "          element.innerHTML = '';\n",
              "          dataTable['output_type'] = 'display_data';\n",
              "          await google.colab.output.renderOutput(dataTable, element);\n",
              "          const docLink = document.createElement('div');\n",
              "          docLink.innerHTML = docLinkHtml;\n",
              "          element.appendChild(docLink);\n",
              "        }\n",
              "      </script>\n",
              "    </div>\n",
              "  </div>\n",
              "  "
            ]
          },
          "metadata": {},
          "execution_count": 25
        }
      ]
    },
    {
      "cell_type": "code",
      "source": [
        "exp_num = exp_num.replace(to_replace='None', value=np.nan).dropna()"
      ],
      "metadata": {
        "id": "21nR2ev_T4Tk"
      },
      "execution_count": null,
      "outputs": []
    },
    {
      "cell_type": "code",
      "source": [
        "exp_num.shape[0]"
      ],
      "metadata": {
        "colab": {
          "base_uri": "https://localhost:8080/"
        },
        "id": "-ew5sn7zT-0p",
        "outputId": "ec79f08b-bc2e-48f7-d211-942d9015313c"
      },
      "execution_count": null,
      "outputs": [
        {
          "output_type": "execute_result",
          "data": {
            "text/plain": [
              "467361"
            ]
          },
          "metadata": {},
          "execution_count": 27
        }
      ]
    },
    {
      "cell_type": "code",
      "source": [
        "exp_num.isnull().values.any()\n"
      ],
      "metadata": {
        "colab": {
          "base_uri": "https://localhost:8080/"
        },
        "id": "X9csgv3wUBgK",
        "outputId": "7661dae9-ee2b-4b83-b9d8-f2a0d754fb1d"
      },
      "execution_count": null,
      "outputs": [
        {
          "output_type": "execute_result",
          "data": {
            "text/plain": [
              "False"
            ]
          },
          "metadata": {},
          "execution_count": 28
        }
      ]
    },
    {
      "cell_type": "markdown",
      "source": [
        "https://discuss.pytorch.org/t/error-when-loading-model-trained-with-python3-7-pytorch-0-4-1-using-python2-7-pytorch-0-4-1/30931\n",
        "https://github.com/TreB1eN/InsightFace_Pytorch/issues/34\n",
        "https://stackoverflow.com/questions/54058716/how-to-pre-load-numpy-data-into-a-buffer-like-io-bytesio-to-make-it-seekable"
      ],
      "metadata": {
        "id": "6QN_akuf4NiV"
      }
    },
    {
      "cell_type": "code",
      "source": [],
      "metadata": {
        "id": "p0QHl4F24fwv"
      },
      "execution_count": null,
      "outputs": []
    }
  ]
}